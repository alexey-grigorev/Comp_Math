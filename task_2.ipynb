{
 "cells": [
  {
   "cell_type": "code",
   "execution_count": 1,
   "metadata": {
    "colab": {},
    "colab_type": "code",
    "collapsed": true,
    "id": "QL-ROwF131XU"
   },
   "outputs": [],
   "source": [
    "import numpy as np\n",
    "import seaborn as sns\n",
    "from math import sqrt\n",
    "\n",
    "import matplotlib\n",
    "import matplotlib.pyplot as plt\n",
    "import matplotlib.ticker\n",
    "%matplotlib inline\n",
    "\n",
    "import seaborn as sns\n",
    "\n",
    "sns.set_context(\"talk\")"
   ]
  },
  {
   "cell_type": "markdown",
   "metadata": {
    "colab_type": "text",
    "id": "xg7SLxza31XY"
   },
   "source": [
    "### Метод Гаусса"
   ]
  },
  {
   "cell_type": "code",
   "execution_count": 2,
   "metadata": {
    "colab": {},
    "colab_type": "code",
    "collapsed": true,
    "id": "XT8_-XlZ31XZ"
   },
   "outputs": [],
   "source": [
    "def gauss(A):\n",
    "    m = len(A)\n",
    "    assert all([len(row) == m + 1 for row in A[1:]]), \"Некорректная матрица! Строки разной длины!\"\n",
    "    n = m + 1\n",
    "    \n",
    "    for k in range(m):\n",
    "        pivots = [abs(A[i][k]) for i in range(k, m)]\n",
    "        i_max = pivots.index(max(pivots)) + k\n",
    "        \n",
    "        assert A[i_max][k] != 0, \"Матрица вырождена!\"\n",
    "        A[k], A[i_max] = A[i_max], A[k]\n",
    "        \n",
    "        for i in range(k + 1, m):\n",
    "            f = A[i][k] / A[k][k]\n",
    "            for j in range(k + 1, n):\n",
    "                A[i][j] -= A[k][j] * f\n",
    "            A[i][k] = 0\n",
    "    \n",
    "    # Решаем уравнение Ax=b для верхне-треугольной матрицы A         \n",
    "    x = list()\n",
    "    for i in range(m - 1, -1, -1):\n",
    "        x.insert(0, A[i][m] / A[i][i])\n",
    "        for k in range(i - 1, -1, -1):\n",
    "            A[k][m] -= A[k][i] * x[0]\n",
    "    return x"
   ]
  },
  {
   "cell_type": "markdown",
   "metadata": {
    "colab_type": "text",
    "id": "IY4PxVzY31Xd"
   },
   "source": [
    "### Метод Зейделя"
   ]
  },
  {
   "cell_type": "code",
   "execution_count": 3,
   "metadata": {
    "colab": {},
    "colab_type": "code",
    "collapsed": true,
    "id": "v8tUQwHJ31Xe"
   },
   "outputs": [],
   "source": [
    "def seidel(A, b, optimal, discrepancy=False, eps=1e-8, x_0=None, max_iteration=100, verbose=False):\n",
    "    n = len(A)\n",
    "    x_1 = list()\n",
    "    \n",
    "    iterator = 0\n",
    "    x = [.0 for i in range(n)] if x_0 is None else x_0\n",
    "    \n",
    "    converge = False\n",
    "    while not converge:\n",
    "        x_new = np.copy(x)\n",
    "        for i in range(n):\n",
    "            s1 = sum(A[i][j] * x_new[j] for j in range(i))\n",
    "            s2 = sum(A[i][j] * x[j] for j in range(i + 1, n))\n",
    "            x_new[i] = (b[i] - s1 - s2) / A[i][i]\n",
    "        \n",
    "        # оптимальный критерий останова\n",
    "        if optimal and len(x_1) != 0:\n",
    "            converge = norm_R**iterator / (1 - norm_R) * sqrt(sum((x_1[i]) ** 2 for i in range(n))) <= eps\n",
    "            if converge and verbose:\n",
    "                print(f'Оптимальный критерий останова сработал на {iterator+1} шаге')\n",
    "        \n",
    "        elif discrepancy and len(x_1) != 0:\n",
    "            converge = sqrt(sum([x**2 for x in error(A, x_new, b)])) <= eps\n",
    "            if converge and verbose:\n",
    "                print(f'Стандартный критерий останова по невязке сработал на {iterator+1} шаге')\n",
    "        \n",
    "        else:\n",
    "            converge = sqrt(sum((x_new[i] - x[i]) ** 2 for i in range(n))) <= eps\n",
    "            if converge and verbose:\n",
    "                print(f'Стандартный критерий останова по изменению значения за итерацию сработал на {iterator+1} шаге')\n",
    "        \n",
    "        x = x_new\n",
    "        \n",
    "        if iterator == 0:\n",
    "            x_1 = x_new\n",
    "        \n",
    "        iterator += 1\n",
    "        if iterator > max_iteration:\n",
    "            raise ValueError(\"Не сходится за отведенное число итераций\")\n",
    "\n",
    "    return x"
   ]
  },
  {
   "cell_type": "markdown",
   "metadata": {
    "colab_type": "text",
    "id": "YzEo0gW331Xi"
   },
   "source": [
    "### Функция вычисления невязки"
   ]
  },
  {
   "cell_type": "code",
   "execution_count": 4,
   "metadata": {
    "colab": {},
    "colab_type": "code",
    "collapsed": true,
    "id": "8Tbx7EOi31Xj"
   },
   "outputs": [],
   "source": [
    "def error(A, x, b):\n",
    "    y = [x[0] for x in (np.matrix(A) * np.matrix(x).transpose()).tolist()]\n",
    "    return [abs(b[i]-y[i]) for i in range(len(b))]"
   ]
  },
  {
   "cell_type": "code",
   "execution_count": 5,
   "metadata": {
    "colab": {
     "base_uri": "https://localhost:8080/",
     "height": 136
    },
    "colab_type": "code",
    "id": "Ck0IzYpB6Op7",
    "outputId": "49aad85a-630e-43d7-94c8-7c695a84a91c"
   },
   "outputs": [
    {
     "name": "stdout",
     "output_type": "stream",
     "text": [
      "[[ 10   1   0 ...   0   0   1]\n",
      " [  1  10   1 ...   0   0   2]\n",
      " [  0   1  10 ...   0   0   3]\n",
      " ...\n",
      " [  0   0   0 ...   1   0  98]\n",
      " [  0   0   0 ...  10   1  99]\n",
      " [  1   1   1 ...   1   1 100]]\n"
     ]
    }
   ],
   "source": [
    "# составляем тестовую расширенную матрицу А\n",
    "n = 99\n",
    "a = [1] * n\n",
    "b = [10] * n\n",
    "c = [1] * n\n",
    "p = [1] * (n+1)\n",
    "f = [1+x for x in range(n+1)]\n",
    "test_1 = [[b[0], c[0]] + [0]*(n-1) + [f[0]]]\n",
    "for i in range(n-1):\n",
    "    temp = [0]*(n+1)\n",
    "    temp[i:i+2] = a[i+1], b[i+1], c[i+1]\n",
    "    temp[-1] = f[i+1]\n",
    "    test_1.append(temp)\n",
    "test_1.append(p+[f[n]])\n",
    "\n",
    "# матрица А и столбец ответов b\n",
    "A = [row[:-1] for row in test_1]\n",
    "b = [row[-1] for row in test_1]\n",
    "\n",
    "print(np.matrix(test_1))"
   ]
  },
  {
   "cell_type": "markdown",
   "metadata": {
    "colab_type": "text",
    "id": "wabgzDIy4iCh"
   },
   "source": [
    "### Описание матрицы"
   ]
  },
  {
   "cell_type": "code",
   "execution_count": 6,
   "metadata": {
    "colab": {
     "base_uri": "https://localhost:8080/",
     "height": 68
    },
    "colab_type": "code",
    "id": "WrA78DA14gJu",
    "outputId": "d4bd25f5-06c7-4f34-b257-2338a3c158c1"
   },
   "outputs": [
    {
     "name": "stdout",
     "output_type": "stream",
     "text": [
      "lambda_min(A) = 0.899889\n",
      "lambda_max(A) = 12.007561\n",
      "числ. обусловленности = ||A||*||A^(-1)|| = 22.458342\n"
     ]
    }
   ],
   "source": [
    "# вычисляем min и max собственные значения матрицы А\n",
    "eigenvalues = np.linalg.eig(A)[0]\n",
    "lambda_max = max(eigenvalues)\n",
    "lambda_min = min(eigenvalues)\n",
    "# вычисляем число обусловленности матрицы А\n",
    "cond = np.linalg.cond(A)\n",
    "\n",
    "print('lambda_min(A) = %f\\nlambda_max(A) = %f\\nчисл. обусловленности = ||A||*||A^(-1)|| = %f'\\\n",
    "        %(lambda_min, lambda_max, cond))"
   ]
  },
  {
   "cell_type": "code",
   "execution_count": 7,
   "metadata": {
    "colab": {},
    "colab_type": "code",
    "collapsed": true,
    "id": "3p18J5PrM3Ln"
   },
   "outputs": [],
   "source": [
    "D = np.diag(np.diag(A)) \n",
    "L = np.tril(A, k = -1) \n",
    "U = np.triu(A, k = 1)\n",
    "\n",
    "R = - (np.matrix(np.linalg.inv(L+D)) * U)\n",
    "norm_R = max([sum([abs(x_i) for x_i in x]) for x in np.transpose(R).tolist()])"
   ]
  },
  {
   "cell_type": "code",
   "execution_count": 8,
   "metadata": {
    "colab": {
     "base_uri": "https://localhost:8080/",
     "height": 51
    },
    "colab_type": "code",
    "id": "7fRjg9-6OHFt",
    "outputId": "ee0175e1-ef20-4cc1-a7bf-3fa4e52a6825"
   },
   "outputs": [
    {
     "name": "stdout",
     "output_type": "stream",
     "text": [
      "max(|lambda(R)|) = 0.111\n",
      "norm(R) = 2.020e-01\n"
     ]
    }
   ],
   "source": [
    "# вычисляем min и max собственные значения матрицы R\n",
    "eigenvalues = np.linalg.eig(R)[0]\n",
    "abs_lambda_max = max([max(eigenvalues), -min(eigenvalues)])\n",
    "print('max(|lambda(R)|) = %0.3f\\nnorm(R) = %0.3e' %(abs_lambda_max.real, norm_R))"
   ]
  },
  {
   "cell_type": "markdown",
   "metadata": {
    "colab_type": "text",
    "id": "X-dtsnpkP2T4"
   },
   "source": [
    "$\\|B\\| =$ 2.020e-01$< 1$\n",
    "\n",
    "$\\Rightarrow$ выполнено достаточное условие сходимости итерационного метода, эквивалентного методу Зейделя\n",
    "\n",
    "**Оптимальный критерий останова:** $\\|x^*-x_k\\| \\le \\frac{\\| B \\|^k}{1- \\|B\\|} \\| x_1 - x_0\\| = \\frac{\\| B \\|^k}{1- \\|B\\|} \\| x_1\\|$"
   ]
  },
  {
   "cell_type": "markdown",
   "metadata": {
    "colab_type": "text",
    "id": "gnYSSCat31Xm"
   },
   "source": [
    "### Тест функций на пункте (a)"
   ]
  },
  {
   "cell_type": "code",
   "execution_count": 9,
   "metadata": {
    "colab": {},
    "colab_type": "code",
    "collapsed": true,
    "id": "SsDlgtzF31Xp"
   },
   "outputs": [],
   "source": [
    "# применяем метод Гаусса\n",
    "gauss_res = gauss(test_1)"
   ]
  },
  {
   "cell_type": "code",
   "execution_count": 10,
   "metadata": {
    "colab": {
     "base_uri": "https://localhost:8080/",
     "height": 51
    },
    "colab_type": "code",
    "id": "zrhOI8_K452f",
    "outputId": "4eb24ebf-c95b-4237-bb06-4692d720b9ab"
   },
   "outputs": [
    {
     "name": "stdout",
     "output_type": "stream",
     "text": [
      "Оптимальный критерий останова сработал на 17 шаге\n",
      "MAE(невязка) = 4.269917752708352e-15\n"
     ]
    }
   ],
   "source": [
    "# применяем метод Зейделя\n",
    "#@title Параметры метода Зейделя\n",
    "\n",
    "max_iteration = 100 #@param {type:\"slider\", min:10, max:100, step:5}\n",
    "eps = 1e-8 #@param {type:\"number\"}\n",
    "optimal = True #@param {type:\"boolean\"}\n",
    "discrepancy = False #@param {type:\"boolean\"}\n",
    "\n",
    "seidel_res = seidel(A, b, optimal, discrepancy=discrepancy, max_iteration=max_iteration, eps=eps, verbose=True)\n",
    "\n",
    "print(f'MAE(невязка) = {np.mean([abs(x) for x in error(A, seidel_res, b)])}')"
   ]
  },
  {
   "cell_type": "markdown",
   "metadata": {
    "colab_type": "text",
    "id": "ghiL5gpGbOPx"
   },
   "source": [
    "**Выводы:** \n",
    "1. Применение оптимального критерия останова позволяет добиться сходимости на 17 шаге с невязкой *3.98e-15*\n",
    "\n",
    "2. Применение стандартного критерия для $\\varepsilon < $ *1e-15* позволяет методу сойтись за меньшее число итераций при меньшей точности невязки"
   ]
  },
  {
   "cell_type": "markdown",
   "metadata": {
    "colab_type": "text",
    "id": "et_61Zf531Xu"
   },
   "source": [
    "### Инфографика "
   ]
  },
  {
   "cell_type": "code",
   "execution_count": 11,
   "metadata": {
    "colab": {
     "base_uri": "https://localhost:8080/",
     "height": 480
    },
    "colab_type": "code",
    "id": "Ht747nP_kSW1",
    "outputId": "7aafafd6-786f-4482-b629-a528546934b5"
   },
   "outputs": [
    {
     "data": {
      "image/png": "[encoded data removed]",
      "text/plain": [
       "<matplotlib.figure.Figure at 0x11ad89f28>"
      ]
     },
     "metadata": {},
     "output_type": "display_data"
    }
   ],
   "source": [
    "xs = np.linspace(1e-10, 0.001, 200)\n",
    "ys = [np.mean(error(A, seidel(A, b, False, max_iteration=max_iteration, eps=x), b)) for x in xs]\n",
    "plt.title(\"График зависимости $MAE$ невязки от $\\epsilon$\")\n",
    "plt.xlabel('$\\epsilon$')\n",
    "plt.ylabel('MAE')\n",
    "plt.ylim((-0.1*max(ys), 1.1*max(ys)))\n",
    "plt.xlim((-0.00005, 0.00105))\n",
    "plt.scatter(xs, ys, color='darkslateblue', s=5);"
   ]
  },
  {
   "cell_type": "markdown",
   "metadata": {
    "colab_type": "text",
    "id": "oFJef4yUdS8I"
   },
   "source": [
    "**Комментарий:** сходимость имеет выраженный ступенчатый вид"
   ]
  },
  {
   "cell_type": "markdown",
   "metadata": {
    "colab_type": "text",
    "id": "RXmcZCHm63X8"
   },
   "source": [
    "### Mетод SVD"
   ]
  },
  {
   "cell_type": "markdown",
   "metadata": {
    "colab_type": "text",
    "id": "nM-CxpUo7BN8"
   },
   "source": [
    "$A \\, x = b$ -- СЛАУ\n",
    "\n",
    "$A = U\\, S\\, V^T$ -- сингулярное разложение матрицы $A$\n",
    "\n",
    "$x = V \\, diag(\\frac{1}{s_{ii}}) \\, U^T\\, b$ -- решение СЛАУ"
   ]
  },
  {
   "cell_type": "code",
   "execution_count": 12,
   "metadata": {
    "colab": {},
    "colab_type": "code",
    "collapsed": true,
    "id": "sW2XQ24b_CS-"
   },
   "outputs": [],
   "source": [
    "def diag_frac(S):\n",
    "    for i in range(len(S)):\n",
    "        S[i][i] = 1.0/S[i][i]\n",
    "    return S"
   ]
  },
  {
   "cell_type": "code",
   "execution_count": 13,
   "metadata": {
    "colab": {},
    "colab_type": "code",
    "collapsed": true,
    "id": "0BzkxNqt7AAG"
   },
   "outputs": [],
   "source": [
    "U, S, V_T = np.linalg.svd(A, full_matrices=False)"
   ]
  },
  {
   "cell_type": "code",
   "execution_count": 14,
   "metadata": {
    "colab": {
     "base_uri": "https://localhost:8080/",
     "height": 34
    },
    "colab_type": "code",
    "id": "sWXeTCe58V-l",
    "outputId": "1b6ea309-3da5-4d62-afd8-b2d3e65d79cf"
   },
   "outputs": [
    {
     "name": "stdout",
     "output_type": "stream",
     "text": [
      "MAE(м.SVD) = 4.3073e-12\n"
     ]
    }
   ],
   "source": [
    "svd_res = [x[0] for x in (np.transpose(V_T) @ diag_frac(np.diag(S)) @ np.transpose(U) @ np.transpose(np.matrix(b))).tolist()]\n",
    "print('MAE(м.SVD) = %.4e' %np.mean(error(A, svd_res, b)))"
   ]
  },
  {
   "cell_type": "markdown",
   "metadata": {
    "colab_type": "text",
    "id": "BT7r-8Xdn1CK"
   },
   "source": [
    "### Метод верхней релаксации"
   ]
  },
  {
   "cell_type": "code",
   "execution_count": 15,
   "metadata": {
    "colab": {},
    "colab_type": "code",
    "collapsed": true,
    "id": "KDwUbwwHfRoj"
   },
   "outputs": [],
   "source": [
    "def SOR(A, b, eps, max_iteration, verbose=False):\n",
    "    D = np.diag(np.diag(A)) \n",
    "    L = np.tril(A, k = -1) \n",
    "    U = np.triu(A, k = 1)\n",
    "    \n",
    "    Q = np.linalg.inv(D + w * L)\n",
    "    K = np.dot(Q,((1.0 - w) * D - w * U))\n",
    "    F = w*np.dot(Q, b)\n",
    "    \n",
    "    x = np.zeros_like(b)\n",
    "    for j in range(1, max_iteration):\n",
    "        x_new = np.dot(K, x) + F\n",
    "        converge = sqrt(sum((x_new[i] - x[i]) ** 2 for i in range(n))) <= eps\n",
    "        if converge:\n",
    "            if verbose:\n",
    "                print(f'Потребовалось {j} итераций')\n",
    "            return x_new\n",
    "        x = x_new\n",
    "    raise ValueError(\"Не сходится за отведенное число итераций\")"
   ]
  },
  {
   "cell_type": "code",
   "execution_count": 16,
   "metadata": {
    "colab": {},
    "colab_type": "code",
    "collapsed": true,
    "id": "RBoAZ6kymu8W"
   },
   "outputs": [],
   "source": [
    "def optimal_w(A):\n",
    "    D = np.diag(np.diag(A)) \n",
    "    L = np.tril(A, k = -1) \n",
    "    U = np.triu(A, k = 1)\n",
    "    \n",
    "    R = - (np.matrix(np.linalg.inv(L+D)) * U)\n",
    "    spect_radius = max(map(abs, np.linalg.eig(R)[0]))\n",
    "    w_opt = 2 / (1 + sqrt(1-spect_radius**2))\n",
    "    return w_opt"
   ]
  },
  {
   "cell_type": "code",
   "execution_count": 17,
   "metadata": {
    "colab": {
     "base_uri": "https://localhost:8080/",
     "height": 51
    },
    "colab_type": "code",
    "id": "lSKUryTxffBi",
    "outputId": "4c4f4586-608e-4aef-bfac-1ab5753fdc04"
   },
   "outputs": [
    {
     "name": "stdout",
     "output_type": "stream",
     "text": [
      "Потребовалось 17 итераций\n",
      "MAE(невязка) = 5.970779426434092e-15\n"
     ]
    }
   ],
   "source": [
    "w = 1 #@param {type:\"slider\", min:0, max:2, step:0.05}\n",
    "max_iteration = 100 #@param {type:\"slider\", min:10, max:100, step:5}\n",
    "eps = 1e-13 #@param {type:\"number\"}\n",
    "w_optimal = True #@param {type:\"boolean\"}\n",
    "\n",
    "if w_optimal:\n",
    "    w = optimal_w(A) \n",
    "\n",
    "sor_res = SOR(A, b, eps, max_iteration, verbose=True)\n",
    "print(f'MAE(невязка) = {np.mean([abs(x) for x in error(A, sor_res, b)])}')"
   ]
  },
  {
   "cell_type": "markdown",
   "metadata": {
    "colab_type": "text",
    "id": "TogR01ovnf-o"
   },
   "source": [
    "**Вывод:** применение оптимального веса $w$ позволяет добиться *MAE(невязки)* $\\approx$*6.68e-15* на *17* шаге"
   ]
  },
  {
   "cell_type": "markdown",
   "metadata": {
    "colab_type": "text",
    "id": "IFR2tGbY31X2"
   },
   "source": [
    "### Результаты \n",
    "_Оценим невязку используя, используя_ ***MAE*** _(средняя абсолютная ошибка) к вектору истинных ответов $b$ и ответам $b_0$, полученным с помощью выбранного метода._"
   ]
  },
  {
   "cell_type": "code",
   "execution_count": 18,
   "metadata": {
    "colab": {
     "base_uri": "https://localhost:8080/",
     "height": 85
    },
    "colab_type": "code",
    "id": "aTikwzIS31X3",
    "outputId": "2d13722d-7457-4cab-f941-ec7d187ee88c"
   },
   "outputs": [
    {
     "name": "stdout",
     "output_type": "stream",
     "text": [
      "MAE(м.Гаусса) = 5.3779e-15\n",
      "MAE(м.Зейделя) = 3.1308e-15, iters = 19\n",
      "MAE(м.SVD) = 4.3073e-12\n",
      "MAE(м.SOR) = 5.9708e-15, iters = 17\n"
     ]
    }
   ],
   "source": [
    "gaus_mae = np.mean([abs(x) for x in error(A, gauss_res, b)])\n",
    "seid_mae = np.mean([abs(x) for x in error(A, seidel(A, b, True, max_iteration=max_iteration, eps=eps, verbose=False), b)])\n",
    "svd_mae = np.mean([abs(x) for x in error(A, svd_res, b)])\n",
    "sor_mae = np.mean([abs(x) for x in error(A, sor_res, b)])\n",
    "print('MAE(м.Гаусса) = %.4e\\nMAE(м.Зейделя) = %0.4e, iters = 19\\nMAE(м.SVD) = %0.4e\\nMAE(м.SOR) = %0.4e, iters = 17' %(gaus_mae, seid_mae, svd_mae, sor_mae))"
   ]
  },
  {
   "cell_type": "code",
   "execution_count": 19,
   "metadata": {
    "colab": {},
    "colab_type": "code",
    "collapsed": true,
    "id": "N92e_bTR6dJ6"
   },
   "outputs": [],
   "source": [
    "#### ДОДЕЛАТЬ ГРАФИЧЕСКУЮ ЗАВИСИМОСТЬ КРИТЕРИЕВ ОСТАНОВА -- ЧИСЛО ВЕРНЫХ ЗНАКОВ ПОСЛЕ ЗАПЯТОЙ ДЛЯ РАЗНЫХ КРИТЕРИЕВ ОСТАНОВА (ОПТИМАЛЬНЫЙ, ПО ДЕЛЬТЕ, ПО НЕВЯЗКЕ)\n",
    "#### ПОСТОРИТЬ ГРАФИК\n",
    "#### ОБЩЕЕ ИСЛЕДОВАНИЕ НЕВЯЗКИ"
   ]
  },
  {
   "cell_type": "markdown",
   "metadata": {},
   "source": [
    "### Анализ взаимосвязей критериев останова\n",
    "\n",
    "* оптимальный: $\\frac{\\| B \\|^k}{1- \\|B\\|} \\| x_1 - x_0\\| < \\varepsilon$\n",
    "* по изменению значения за итерацию: $\\| \\Delta x_{k+1} \\|_E = \\sqrt{\\sum \\limits_{j=1}^n (x_{k+1}[j]-x_k[j])^2} < \\varepsilon$\n",
    "* по невязке: $\\| f_k - f\\|_E = \\sqrt{\\sum \\limits_{j=1}^n (f_{k}[j]-f[j])^2} < \\varepsilon$, где $f_k = A \\cdot x_k$ - невязка на $k-$ом шаге"
   ]
  },
  {
   "cell_type": "markdown",
   "metadata": {},
   "source": [
    "Рассмотрим число верных цифр в результате работы каждого из этих методов при различных значения параметра $\\varepsilon$. Для интерпретации результата рассматриваются среднее значение числа верных цифр после запятой в векторе ответов $x$ и среднеквадратическое отклонение этой величины."
   ]
  },
  {
   "cell_type": "code",
   "execution_count": 20,
   "metadata": {
    "colab": {},
    "colab_type": "code",
    "collapsed": true,
    "id": "xWhSeuTOGQfg"
   },
   "outputs": [],
   "source": [
    "# вычисление числа верных цифр после запятой\n",
    "def right_digits(x, true_x):\n",
    "    max_by_element = [np.max([0]+[i for i in range(1, 16) if abs(x[j]-true_x[j])<10**(-i)]) for j in range(len(x))]\n",
    "    return np.mean(max_by_element), np.std(max_by_element)"
   ]
  },
  {
   "cell_type": "code",
   "execution_count": 21,
   "metadata": {
    "colab": {},
    "colab_type": "code",
    "collapsed": true,
    "id": "danuUxH6Do8d"
   },
   "outputs": [],
   "source": [
    "true_x = np.linalg.solve(A, b)"
   ]
  },
  {
   "cell_type": "code",
   "execution_count": 22,
   "metadata": {
    "colab": {},
    "colab_type": "code",
    "collapsed": true,
    "id": "Ss2X5uKbSs7B"
   },
   "outputs": [],
   "source": [
    "epss = [10**(-i) for i in np.linspace(0, 12, 120)]\n",
    "# optimal \n",
    "optimal, discrepancy = True, False\n",
    "opt_coincides = list()\n",
    "for eps in epss:\n",
    "    res = seidel(A, b, optimal, discrepancy=discrepancy,\\\n",
    "                    max_iteration=100, eps=eps, verbose=False)\n",
    "    opt_coincides.append(right_digits(res, true_x))\n",
    "\n",
    "# delta\n",
    "optimal, discrepancy = False, False\n",
    "delta_coincides = list()\n",
    "for eps in epss:\n",
    "    res = seidel(A, b, optimal, discrepancy=discrepancy,\\\n",
    "                    max_iteration=100, eps=eps, verbose=False)\n",
    "    delta_coincides.append(right_digits(res, true_x))\n",
    "\n",
    "# discrepancy\n",
    "coin_epss = epss[:]\n",
    "optimal, discrepancy = False, True\n",
    "coin_coincides = list()\n",
    "for eps in coin_epss:\n",
    "    res = seidel(A, b, optimal, discrepancy=discrepancy,\\\n",
    "                    max_iteration=100, eps=eps, verbose=False)\n",
    "    coin_coincides.append(right_digits(res, true_x))"
   ]
  },
  {
   "cell_type": "code",
   "execution_count": 23,
   "metadata": {},
   "outputs": [
    {
     "data": {
      "image/png": "[encoded data removed]",
      "text/plain": [
       "<matplotlib.figure.Figure at 0x11ceb04a8>"
      ]
     },
     "metadata": {},
     "output_type": "display_data"
    }
   ],
   "source": [
    "xs = np.linspace(0, 12, 120)\n",
    "ys = [x[0] for x in opt_coincides]\n",
    "top_border = [x[0] + x[1] for x in opt_coincides]\n",
    "low_border = list(reversed([x[0] - x[1] for x in opt_coincides]))\n",
    "\n",
    "plt.figure(figsize=(12, 8))\n",
    "plt.ylim((2, 16))\n",
    "plt.xlim((-0.25, 12.25))\n",
    "plt.xlabel('$i$: $\\epsilon=10^{-i}$')\n",
    "plt.ylabel('Число правильных цифр')\n",
    "plt.title('''График зависимости числа правильных цифр после запятой от $\\epsilon=10^{-i}$\n",
    "             для оптимального параметра останова''')\n",
    "plt.plot(xs, ys, linestyle='--', label='среднее значение');\n",
    "plt.plot([-1, 13], [15, 15], ':', c='red', lw=1.5)\n",
    "plt.fill(list(xs)+list(reversed(xs)), top_border+low_border, alpha=0.3, label='интервал std');\n",
    "plt.legend(loc=4);"
   ]
  },
  {
   "cell_type": "code",
   "execution_count": 24,
   "metadata": {},
   "outputs": [
    {
     "data": {
      "image/png": "[encoded data removed]",
      "text/plain": [
       "<matplotlib.figure.Figure at 0x11cf2f198>"
      ]
     },
     "metadata": {},
     "output_type": "display_data"
    }
   ],
   "source": [
    "xs = np.linspace(0, 12, 120)\n",
    "ys = [x[0] for x in delta_coincides]\n",
    "top_border = [x[0] + x[1] for x in delta_coincides]\n",
    "low_border = list(reversed([x[0] - x[1] for x in delta_coincides]))\n",
    "\n",
    "plt.figure(figsize=(12, 8))\n",
    "plt.ylim((2, 16))\n",
    "plt.xlim((-0.25, 12.25))\n",
    "plt.xlabel('$i$: $\\epsilon=10^{-i}$')\n",
    "plt.ylabel('Число правильных цифр')\n",
    "plt.title('''График зависимости числа правильных цифр после запятой от $\\epsilon=10^{-i}$\n",
    "             для остановки по изменению значения за итерацию''')\n",
    "plt.plot(xs, ys, linestyle='--', label='среднее значение');\n",
    "plt.plot([-1, 13], [15, 15], ':', c='red', lw=1.5)\n",
    "plt.fill(list(xs)+list(reversed(xs)), top_border+low_border, alpha=0.3, label='интервал std');\n",
    "plt.legend();"
   ]
  },
  {
   "cell_type": "code",
   "execution_count": 25,
   "metadata": {},
   "outputs": [
    {
     "data": {
      "image/png": "[encoded data removed]",
      "text/plain": [
       "<matplotlib.figure.Figure at 0x11d4247f0>"
      ]
     },
     "metadata": {},
     "output_type": "display_data"
    }
   ],
   "source": [
    "xs = np.linspace(0, 12, 120)\n",
    "ys = [x[0] for x in coin_coincides]\n",
    "top_border = [x[0] + x[1] for x in coin_coincides]\n",
    "low_border = list(reversed([x[0] - x[1] for x in coin_coincides]))\n",
    "\n",
    "plt.figure(figsize=(12, 8))\n",
    "plt.ylim((2, 16))\n",
    "plt.xlim((-0.25, 12.25))\n",
    "plt.xlabel('$i$: $\\epsilon=10^{-i}$')\n",
    "plt.ylabel('Число правильных цифр')\n",
    "plt.title('''График зависимости числа правильных цифр после запятой от $\\epsilon=10^{-i}$\n",
    "             для остановки по невязке''')\n",
    "plt.plot(xs, ys, linestyle='--', label='среднее значение');\n",
    "plt.plot([-1, 13], [15, 15], ':', c='red', lw=1.5)\n",
    "plt.fill(list(xs)+list(reversed(xs)), top_border+low_border, alpha=0.3, label='интервал std');\n",
    "plt.legend();"
   ]
  },
  {
   "cell_type": "code",
   "execution_count": 26,
   "metadata": {},
   "outputs": [
    {
     "name": "stdout",
     "output_type": "stream",
     "text": [
      "epsilon = 1e-5\n",
      "Оптимальный критерий останова сработал на 13 шаге\n",
      "Стандартный критерий останова по изменению значения за итерацию сработал на 9 шаге\n",
      "Стандартный критерий останова по невязке сработал на 9 шаге\n"
     ]
    }
   ],
   "source": [
    "eps = 1e-5\n",
    "print('epsilon = 1e-5')\n",
    "_ = seidel(A, b, True, discrepancy=False,\n",
    "                    max_iteration=100, eps=eps, verbose=True)\n",
    "_ = seidel(A, b, False, discrepancy=False,\n",
    "                    max_iteration=100, eps=eps, verbose=True)\n",
    "_ = seidel(A, b, False, discrepancy=True,\n",
    "                    max_iteration=100, eps=eps, verbose=True)"
   ]
  },
  {
   "cell_type": "code",
   "execution_count": 27,
   "metadata": {},
   "outputs": [
    {
     "name": "stdout",
     "output_type": "stream",
     "text": [
      "epsilon = 1e-10\n",
      "Оптимальный критерий останова сработал на 20 шаге\n",
      "Стандартный критерий останова по изменению значения за итерацию сработал на 14 шаге\n",
      "Стандартный критерий останова по невязке сработал на 14 шаге\n"
     ]
    }
   ],
   "source": [
    "eps = 1e-10\n",
    "print('epsilon = 1e-10')\n",
    "_ = seidel(A, b, True, discrepancy=False,\n",
    "                    max_iteration=100, eps=eps, verbose=True)\n",
    "_ = seidel(A, b, False, discrepancy=False,\n",
    "                    max_iteration=100, eps=eps, verbose=True)\n",
    "_ = seidel(A, b, False, discrepancy=True,\n",
    "                    max_iteration=100, eps=eps, verbose=True)"
   ]
  },
  {
   "cell_type": "code",
   "execution_count": 28,
   "metadata": {},
   "outputs": [
    {
     "name": "stdout",
     "output_type": "stream",
     "text": [
      "epsilon = 1e-5\n",
      "Оптимальный критерий останова сработал на 23 шаге\n",
      "Стандартный критерий останова по изменению значения за итерацию сработал на 16 шаге\n",
      "Стандартный критерий останова по невязке сработал на 16 шаге\n"
     ]
    }
   ],
   "source": [
    "eps = 1e-12\n",
    "print('epsilon = 1e-5')\n",
    "_ = seidel(A, b, True, discrepancy=False,\n",
    "                    max_iteration=100, eps=eps, verbose=True)\n",
    "_ = seidel(A, b, False, discrepancy=False,\n",
    "                    max_iteration=100, eps=eps, verbose=True)\n",
    "_ = seidel(A, b, False, discrepancy=True,\n",
    "                    max_iteration=100, eps=eps, verbose=True)"
   ]
  },
  {
   "cell_type": "markdown",
   "metadata": {},
   "source": [
    "Не смотря на полученный результат второй и третий критерии не эквивалентны и совпадают лишь в рамках этой задачи. Что связано с устройством матрицы и установлена путем рассмотрения пошаговых значений. "
   ]
  }
 ],
 "metadata": {
  "accelerator": "GPU",
  "colab": {
   "collapsed_sections": [],
   "name": "task_2.ipynb",
   "provenance": [],
   "version": "0.3.2"
  },
  "kernelspec": {
   "display_name": "Python 3",
   "language": "python",
   "name": "python3"
  },
  "language_info": {
   "codemirror_mode": {
    "name": "ipython",
    "version": 3
   },
   "file_extension": ".py",
   "mimetype": "text/x-python",
   "name": "python",
   "nbconvert_exporter": "python",
   "pygments_lexer": "ipython3",
   "version": "3.6.3"
  }
 },
 "nbformat": 4,
 "nbformat_minor": 1
}
